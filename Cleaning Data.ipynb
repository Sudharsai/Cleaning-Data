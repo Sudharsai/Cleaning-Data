{
 "cells": [
  {
   "cell_type": "code",
   "execution_count": 2,
   "id": "656c1309-c792-411b-a625-2855033b1d7a",
   "metadata": {},
   "outputs": [
    {
     "name": "stdout",
     "output_type": "stream",
     "text": [
      "Requirement already satisfied: pandas in c:\\users\\sudarsan\\anaconda3\\lib\\site-packages (2.1.4)\n",
      "Requirement already satisfied: numpy<2,>=1.23.2 in c:\\users\\sudarsan\\anaconda3\\lib\\site-packages (from pandas) (1.26.4)\n",
      "Requirement already satisfied: python-dateutil>=2.8.2 in c:\\users\\sudarsan\\anaconda3\\lib\\site-packages (from pandas) (2.8.2)\n",
      "Requirement already satisfied: pytz>=2020.1 in c:\\users\\sudarsan\\anaconda3\\lib\\site-packages (from pandas) (2023.3.post1)\n",
      "Requirement already satisfied: tzdata>=2022.1 in c:\\users\\sudarsan\\anaconda3\\lib\\site-packages (from pandas) (2023.3)\n",
      "Requirement already satisfied: six>=1.5 in c:\\users\\sudarsan\\anaconda3\\lib\\site-packages (from python-dateutil>=2.8.2->pandas) (1.16.0)\n",
      "Requirement already satisfied: numpy in c:\\users\\sudarsan\\anaconda3\\lib\\site-packages (1.26.4)\n"
     ]
    }
   ],
   "source": [
    "!pip install pandas\n",
    "!pip install numpy"
   ]
  },
  {
   "cell_type": "code",
   "execution_count": 3,
   "id": "5ba6ebaa-1366-4ae6-9dc8-741a31037bb8",
   "metadata": {},
   "outputs": [],
   "source": [
    "#Import Libraries and Load Data\n",
    "import pandas as pd\n",
    "import numpy as np"
   ]
  },
  {
   "cell_type": "code",
   "execution_count": 4,
   "id": "05ff3ff6-a25b-4e28-9878-bbcbdb996869",
   "metadata": {},
   "outputs": [],
   "source": [
    "#Load the Datasets\n",
    "df1=pd.read_csv(r\"C:\\Users\\Sudarsan\\OneDrive\\sudarsun\\Data Analyst intern(OASIS infotech)\\Task 2\\New York City ANB 2019.csv\")\n",
    "df2=pd.read_csv(r\"C:\\Users\\Sudarsan\\OneDrive\\sudarsun\\Data Analyst intern(OASIS infotech)\\Task 2\\CAvideos.csv\")"
   ]
  },
  {
   "cell_type": "code",
   "execution_count": 6,
   "id": "2e86ac56-355c-4ea3-b6ca-8aff33f7d733",
   "metadata": {},
   "outputs": [
    {
     "name": "stdout",
     "output_type": "stream",
     "text": [
      "Data Integrity Check for df1:\n",
      "<class 'pandas.core.frame.DataFrame'>\n",
      "RangeIndex: 48895 entries, 0 to 48894\n",
      "Data columns (total 16 columns):\n",
      " #   Column                          Non-Null Count  Dtype  \n",
      "---  ------                          --------------  -----  \n",
      " 0   id                              48895 non-null  int64  \n",
      " 1   name                            48879 non-null  object \n",
      " 2   host_id                         48895 non-null  int64  \n",
      " 3   host_name                       48874 non-null  object \n",
      " 4   neighbourhood_group             48895 non-null  object \n",
      " 5   neighbourhood                   48895 non-null  object \n",
      " 6   latitude                        48895 non-null  float64\n",
      " 7   longitude                       48895 non-null  float64\n",
      " 8   room_type                       48895 non-null  object \n",
      " 9   price                           48895 non-null  int64  \n",
      " 10  minimum_nights                  48895 non-null  int64  \n",
      " 11  number_of_reviews               48895 non-null  int64  \n",
      " 12  last_review                     38843 non-null  object \n",
      " 13  reviews_per_month               38843 non-null  float64\n",
      " 14  calculated_host_listings_count  48895 non-null  int64  \n",
      " 15  availability_365                48895 non-null  int64  \n",
      "dtypes: float64(3), int64(7), object(6)\n",
      "memory usage: 6.0+ MB\n",
      "None\n"
     ]
    }
   ],
   "source": [
    "#Data Integrity\n",
    "#check for data types and info \n",
    "print(\"Data Integrity Check for df1:\")\n",
    "print(df1.info())"
   ]
  },
  {
   "cell_type": "code",
   "execution_count": 7,
   "id": "71823ecc-f6ef-4dad-8064-c35a3996c197",
   "metadata": {},
   "outputs": [
    {
     "name": "stdout",
     "output_type": "stream",
     "text": [
      "\n",
      "Data Integrity Check for df2:\n",
      "<class 'pandas.core.frame.DataFrame'>\n",
      "RangeIndex: 40881 entries, 0 to 40880\n",
      "Data columns (total 16 columns):\n",
      " #   Column                  Non-Null Count  Dtype \n",
      "---  ------                  --------------  ----- \n",
      " 0   video_id                40881 non-null  object\n",
      " 1   trending_date           40881 non-null  object\n",
      " 2   title                   40881 non-null  object\n",
      " 3   channel_title           40881 non-null  object\n",
      " 4   category_id             40881 non-null  int64 \n",
      " 5   publish_time            40881 non-null  object\n",
      " 6   tags                    40881 non-null  object\n",
      " 7   views                   40881 non-null  int64 \n",
      " 8   likes                   40881 non-null  int64 \n",
      " 9   dislikes                40881 non-null  int64 \n",
      " 10  comment_count           40881 non-null  int64 \n",
      " 11  thumbnail_link          40881 non-null  object\n",
      " 12  comments_disabled       40881 non-null  bool  \n",
      " 13  ratings_disabled        40881 non-null  bool  \n",
      " 14  video_error_or_removed  40881 non-null  bool  \n",
      " 15  description             39585 non-null  object\n",
      "dtypes: bool(3), int64(5), object(8)\n",
      "memory usage: 4.2+ MB\n",
      "None\n"
     ]
    }
   ],
   "source": [
    "print(\"\\nData Integrity Check for df2:\")\n",
    "print(df2.info())"
   ]
  },
  {
   "cell_type": "code",
   "execution_count": 8,
   "id": "fa850147-182e-4949-b8d4-bb3934cab3f9",
   "metadata": {},
   "outputs": [],
   "source": [
    "#Convert data type \n",
    "df1['price']=pd.to_numeric(df1['price'],errors='coerce')"
   ]
  },
  {
   "cell_type": "code",
   "execution_count": 11,
   "id": "465b889d-f3f3-4cf8-ad82-a6b25cf207a2",
   "metadata": {},
   "outputs": [],
   "source": [
    "df2['views'] = pd.to_numeric(df2['views'], errors='coerce')"
   ]
  },
  {
   "cell_type": "code",
   "execution_count": 12,
   "id": "e418d91d-7820-46e5-b687-6f46326bc6ff",
   "metadata": {},
   "outputs": [
    {
     "name": "stdout",
     "output_type": "stream",
     "text": [
      "\n",
      "Missing Values in df1:\n",
      "id                                    0\n",
      "name                                 16\n",
      "host_id                               0\n",
      "host_name                            21\n",
      "neighbourhood_group                   0\n",
      "neighbourhood                         0\n",
      "latitude                              0\n",
      "longitude                             0\n",
      "room_type                             0\n",
      "price                                 0\n",
      "minimum_nights                        0\n",
      "number_of_reviews                     0\n",
      "last_review                       10052\n",
      "reviews_per_month                 10052\n",
      "calculated_host_listings_count        0\n",
      "availability_365                      0\n",
      "dtype: int64\n"
     ]
    }
   ],
   "source": [
    "#Missing Data Handling\n",
    "print(\"\\nMissing Values in df1:\")\n",
    "print(df1.isnull().sum())"
   ]
  },
  {
   "cell_type": "code",
   "execution_count": 13,
   "id": "ae1f812e-c304-4dd8-8814-e3c0b07bcd86",
   "metadata": {},
   "outputs": [
    {
     "name": "stdout",
     "output_type": "stream",
     "text": [
      "\n",
      "Missing Values in df2:\n",
      "video_id                     0\n",
      "trending_date                0\n",
      "title                        0\n",
      "channel_title                0\n",
      "category_id                  0\n",
      "publish_time                 0\n",
      "tags                         0\n",
      "views                        0\n",
      "likes                        0\n",
      "dislikes                     0\n",
      "comment_count                0\n",
      "thumbnail_link               0\n",
      "comments_disabled            0\n",
      "ratings_disabled             0\n",
      "video_error_or_removed       0\n",
      "description               1296\n",
      "dtype: int64\n"
     ]
    }
   ],
   "source": [
    "print(\"\\nMissing Values in df2:\")\n",
    "print(df2.isnull().sum())"
   ]
  },
  {
   "cell_type": "code",
   "execution_count": 16,
   "id": "0e653a1d-f3d9-4a45-b72f-9e93e0529e0f",
   "metadata": {},
   "outputs": [],
   "source": [
    "#Handling missing values\n",
    "#Drop rows with missing values\n",
    "df1.dropna(inplace=True)\n",
    "df2.dropna(inplace=True)"
   ]
  },
  {
   "cell_type": "code",
   "execution_count": 18,
   "id": "7ef68822-0449-48ff-be71-49189f73a6d6",
   "metadata": {},
   "outputs": [
    {
     "name": "stdout",
     "output_type": "stream",
     "text": [
      "\n",
      "Duplicates in df1:\n",
      "0\n"
     ]
    }
   ],
   "source": [
    "# Check for duplicates\n",
    "print(\"\\nDuplicates in df1:\")\n",
    "print(df1.duplicated().sum())"
   ]
  },
  {
   "cell_type": "code",
   "execution_count": 19,
   "id": "e7fc11e1-76a7-4d75-814e-0b2fe35357e2",
   "metadata": {},
   "outputs": [
    {
     "name": "stdout",
     "output_type": "stream",
     "text": [
      "\n",
      "Duplicates in df2:\n",
      "0\n"
     ]
    }
   ],
   "source": [
    "print(\"\\nDuplicates in df2:\")\n",
    "print(df2.duplicated().sum())"
   ]
  },
  {
   "cell_type": "code",
   "execution_count": 20,
   "id": "e3e27358-989a-40ee-8a73-2a47139e599f",
   "metadata": {},
   "outputs": [],
   "source": [
    "# Remove duplicates\n",
    "df1.drop_duplicates(inplace=True)\n",
    "df2.drop_duplicates(inplace=True)"
   ]
  },
  {
   "cell_type": "code",
   "execution_count": 22,
   "id": "c4f1d727-00c6-4953-990a-c4bd58902187",
   "metadata": {},
   "outputs": [],
   "source": [
    "#Standardization\n",
    "# Standardize column names\n",
    "df1.columns = df1.columns.str.lower().str.replace(' ', '_')\n",
    "df2.columns = df2.columns.str.lower().str.replace(' ', '_')"
   ]
  },
  {
   "cell_type": "code",
   "execution_count": 25,
   "id": "e43c6a9a-5028-463f-8979-074c21a965e2",
   "metadata": {},
   "outputs": [
    {
     "name": "stdout",
     "output_type": "stream",
     "text": [
      "             id                                              name    host_id  \\\n",
      "0          2539                Clean & quiet apt home by the park       2787   \n",
      "1          2595                             Skylit Midtown Castle       2845   \n",
      "3          3831                   Cozy Entire Floor of Brownstone       4869   \n",
      "4          5022  Entire Apt: Spacious Studio/Loft by central park       7192   \n",
      "5          5099         Large Cozy 1 BR Apartment In Midtown East       7322   \n",
      "...         ...                                               ...        ...   \n",
      "48782  36425863        Lovely Privet Bedroom with Privet Restroom   83554966   \n",
      "48790  36427429                          No.2 with queen size bed  257683179   \n",
      "48799  36438336                                   Seas The Moment  211644523   \n",
      "48805  36442252                     1B-1B apartment near by Metro  273841667   \n",
      "48852  36455809           Cozy Private Room in Bushwick, Brooklyn   74162901   \n",
      "\n",
      "         host_name neighbourhood_group    neighbourhood  latitude  longitude  \\\n",
      "0             John            Brooklyn       Kensington  40.64749  -73.97237   \n",
      "1         Jennifer           Manhattan          Midtown  40.75362  -73.98377   \n",
      "3      LisaRoxanne            Brooklyn     Clinton Hill  40.68514  -73.95976   \n",
      "4            Laura           Manhattan      East Harlem  40.79851  -73.94399   \n",
      "5            Chris           Manhattan      Murray Hill  40.74767  -73.97500   \n",
      "...            ...                 ...              ...       ...        ...   \n",
      "48782        Rusaa           Manhattan  Upper East Side  40.78099  -73.95366   \n",
      "48790         H Ai              Queens         Flushing  40.75104  -73.81459   \n",
      "48799          Ben       Staten Island      Great Kills  40.54179  -74.14275   \n",
      "48805       Blaine               Bronx       Mott Haven  40.80787  -73.92400   \n",
      "48852    Christine            Brooklyn         Bushwick  40.69805  -73.92801   \n",
      "\n",
      "             room_type  price  minimum_nights  number_of_reviews last_review  \\\n",
      "0         Private room  149.0               1                  9  2018-10-19   \n",
      "1      Entire home/apt  225.0               1                 45  2019-05-21   \n",
      "3      Entire home/apt   89.0               1                270  2019-07-05   \n",
      "4      Entire home/apt   80.0              10                  9  2018-11-19   \n",
      "5      Entire home/apt  200.0               3                 74  2019-06-22   \n",
      "...                ...    ...             ...                ...         ...   \n",
      "48782     Private room  129.0               1                  1  2019-07-07   \n",
      "48790     Private room   45.0               1                  1  2019-07-07   \n",
      "48799     Private room  235.0               1                  1  2019-07-07   \n",
      "48805  Entire home/apt  100.0               1                  2  2019-07-07   \n",
      "48852     Private room   30.0               1                  1  2019-07-08   \n",
      "\n",
      "       reviews_per_month  calculated_host_listings_count  availability_365  \n",
      "0                   0.21                               6               365  \n",
      "1                   0.38                               2               355  \n",
      "3                   4.64                               1               194  \n",
      "4                   0.10                               1                 0  \n",
      "5                   0.59                               1               129  \n",
      "...                  ...                             ...               ...  \n",
      "48782               1.00                               1               147  \n",
      "48790               1.00                               6               339  \n",
      "48799               1.00                               1                87  \n",
      "48805               2.00                               1                40  \n",
      "48852               1.00                               1                 1  \n",
      "\n",
      "[38821 rows x 16 columns]\n"
     ]
    }
   ],
   "source": [
    "#Convert price to float \n",
    "def convert_price(x):\n",
    "    if isinstance(x, str): \n",
    "        return float(x.replace('$', '').replace(',', ''))\n",
    "    elif pd.isna(x): \n",
    "        return x\n",
    "    else:\n",
    "        return float(x)\n",
    "df1['price'] = df1['price'].apply(convert_price)\n",
    "\n",
    "print(df1)"
   ]
  },
  {
   "cell_type": "code",
   "execution_count": 27,
   "id": "0ac9d773-60a5-4021-8210-4d6c31d043f1",
   "metadata": {},
   "outputs": [],
   "source": [
    "#Outlier Detection\n",
    "# Detect outliers using IQR (Interquartile Range) method\n",
    "def detect_outliers(df, column):\n",
    "    Q1 = df[column].quantile(0.25)\n",
    "    Q3 = df[column].quantile(0.75)\n",
    "    IQR = Q3 - Q1\n",
    "    lower_bound = Q1 - 1.5 * IQR\n",
    "    upper_bound = Q3 + 1.5 * IQR\n",
    "    return df[(df[column] < lower_bound) | (df[column] > upper_bound)]"
   ]
  },
  {
   "cell_type": "code",
   "execution_count": 28,
   "id": "e4decb60-0e5c-4cc7-ac96-b99c7630684e",
   "metadata": {},
   "outputs": [
    {
     "name": "stdout",
     "output_type": "stream",
     "text": [
      "\n",
      "Outliers in df1 (price column):\n",
      "             id                                               name    host_id  \\\n",
      "61        15396                 Sunny & Spacious Chelsea Apartment      60278   \n",
      "85        19601                perfect for a family or small group      74303   \n",
      "103       23686  2000 SF 3br 2bath West Village private  townhouse      93790   \n",
      "114       26933  2 BR / 2 Bath Duplex Apt with patio! East Village      72062   \n",
      "116       26969                2 story family home in Williamsburg     115307   \n",
      "...         ...                                                ...        ...   \n",
      "47736  35881797    Luxury Hi-End Brooklyn Brownstone with backyard  269893009   \n",
      "47927  35991985                 Penthouse Lofts + Private Terrace!  270590027   \n",
      "47950  36000376                   ★★ 4Br 2Ba Getaway in Chelsea ★★  268449136   \n",
      "48118  36097970   Astonishing Nomad Apt in the Center Of Manhattan  270292053   \n",
      "48740  36413632         Spacious 2BR in Beautiful Brooklyn Heights    6608220   \n",
      "\n",
      "                 host_name neighbourhood_group     neighbourhood  latitude  \\\n",
      "61                   Petra           Manhattan           Chelsea  40.74623   \n",
      "85                  Maggie            Brooklyn  Brooklyn Heights  40.69723   \n",
      "103                    Ann           Manhattan      West Village  40.73096   \n",
      "114                  Bruce           Manhattan      East Village  40.72540   \n",
      "116              Alexandra            Brooklyn      Williamsburg  40.71942   \n",
      "...                    ...                 ...               ...       ...   \n",
      "47736                   Ek            Brooklyn         Bay Ridge  40.63294   \n",
      "47927               Amanda            Brooklyn      Williamsburg  40.70907   \n",
      "47950  Alexandra & William           Manhattan           Chelsea  40.74263   \n",
      "48118               Teufik           Manhattan           Chelsea  40.74690   \n",
      "48740                 Matt            Brooklyn  Brooklyn Heights  40.69827   \n",
      "\n",
      "       longitude        room_type  price  minimum_nights  number_of_reviews  \\\n",
      "61     -73.99530  Entire home/apt  375.0             180                  5   \n",
      "85     -73.99268  Entire home/apt  800.0               1                 25   \n",
      "103    -74.00319  Entire home/apt  500.0               4                 46   \n",
      "114    -73.98157  Entire home/apt  350.0               2                  7   \n",
      "116    -73.95748  Entire home/apt  325.0               3                324   \n",
      "...          ...              ...    ...             ...                ...   \n",
      "47736  -74.02730  Entire home/apt  595.0               1                  4   \n",
      "47927  -73.95054  Entire home/apt  599.0               2                  1   \n",
      "47950  -74.00234  Entire home/apt  800.0               3                  1   \n",
      "48118  -73.99038  Entire home/apt  350.0               3                  3   \n",
      "48740  -73.99649  Entire home/apt  550.0               3                  1   \n",
      "\n",
      "      last_review  reviews_per_month  calculated_host_listings_count  \\\n",
      "61     2018-11-03               0.12                               1   \n",
      "85     2016-08-04               0.24                               1   \n",
      "103    2019-05-18               0.55                               2   \n",
      "114    2017-08-09               0.06                               4   \n",
      "116    2019-06-23               3.01                               1   \n",
      "...           ...                ...                             ...   \n",
      "47736  2019-07-07               4.00                               1   \n",
      "47927  2019-07-05               1.00                               1   \n",
      "47950  2019-07-01               1.00                               1   \n",
      "48118  2019-07-03               3.00                               1   \n",
      "48740  2019-07-07               1.00                               1   \n",
      "\n",
      "       availability_365  \n",
      "61                  180  \n",
      "85                    7  \n",
      "103                 243  \n",
      "114                 298  \n",
      "116                 107  \n",
      "...                 ...  \n",
      "47736                57  \n",
      "47927               346  \n",
      "47950               345  \n",
      "48118               345  \n",
      "48740               230  \n",
      "\n",
      "[2077 rows x 16 columns]\n"
     ]
    }
   ],
   "source": [
    "outliers_df1 = detect_outliers(df1, 'price')\n",
    "print(\"\\nOutliers in df1 (price column):\")\n",
    "print(outliers_df1)"
   ]
  },
  {
   "cell_type": "code",
   "execution_count": 29,
   "id": "87053f04-7c3a-4261-8b57-9548b9192600",
   "metadata": {},
   "outputs": [
    {
     "name": "stdout",
     "output_type": "stream",
     "text": [
      "\n",
      "Outliers in df2 (views column):\n",
      "          video_id trending_date  \\\n",
      "0      n1WpP7iowLc      17.14.11   \n",
      "2      5qpjK5DgCt4      17.14.11   \n",
      "4      2Vv-BfVoq4g      17.14.11   \n",
      "6      _uM5kFfkhB8      17.14.11   \n",
      "8      JzCsM1vtn78      17.14.11   \n",
      "...            ...           ...   \n",
      "40797  DGzy8FE1Rhk      18.14.06   \n",
      "40807  G4g2Kg6wXBc      18.14.06   \n",
      "40828  64UX1npgRkI      18.14.06   \n",
      "40857  vg0ZfeszGrU      18.14.06   \n",
      "40864  Fmdb-KmlzD8      18.14.06   \n",
      "\n",
      "                                                   title      channel_title  \\\n",
      "0             Eminem - Walk On Water (Audio) ft. Beyoncé         EminemVEVO   \n",
      "2      Racist Superman | Rudy Mancuso, King Bach & Le...       Rudy Mancuso   \n",
      "4            Ed Sheeran - Perfect (Official Music Video)         Ed Sheeran   \n",
      "6                 Vanoss Superhero School - New Students       VanossGaming   \n",
      "8                   THE LOGANG MADE HISTORY. LOL. AGAIN.   Logan Paul Vlogs   \n",
      "...                                                  ...                ...   \n",
      "40797                             Shawn Mendes - Nervous    ShawnMendesVEVO   \n",
      "40807  Junga Official Trailer | Vijay Sethupathi, Say...  Think Music India   \n",
      "40828  Sanju: Kar Har Maidaan Fateh | Ranbir Kapoor |...           T-Series   \n",
      "40857  Difference | Amrit Maan ft Sonia Maan | Latest...         Bamb Beats   \n",
      "40864     Halo Infinite - E3 2018 - Announcement Trailer               HALO   \n",
      "\n",
      "       category_id              publish_time  \\\n",
      "0               10  2017-11-10T17:00:03.000Z   \n",
      "2               23  2017-11-12T19:05:24.000Z   \n",
      "4               10  2017-11-09T11:04:14.000Z   \n",
      "6               23  2017-11-12T23:52:13.000Z   \n",
      "8               24  2017-11-12T20:19:24.000Z   \n",
      "...            ...                       ...   \n",
      "40797           10  2018-06-11T16:00:03.000Z   \n",
      "40807            1  2018-06-13T05:57:12.000Z   \n",
      "40828           10  2018-06-10T05:31:55.000Z   \n",
      "40857           10  2018-06-08T11:13:27.000Z   \n",
      "40864           20  2018-06-10T20:02:54.000Z   \n",
      "\n",
      "                                                    tags     views    likes  \\\n",
      "0      Eminem|\"Walk\"|\"On\"|\"Water\"|\"Aftermath/Shady/In...  17158579   787425   \n",
      "2      racist superman|\"rudy\"|\"mancuso\"|\"king\"|\"bach\"...   3191434   146035   \n",
      "4      edsheeran|\"ed sheeran\"|\"acoustic\"|\"live\"|\"cove...  33523622  1634130   \n",
      "6      Funny Moments|\"Montage video games\"|\"gaming\"|\"...   2987945   187464   \n",
      "8      logan paul vlog|\"logan paul\"|\"logan\"|\"paul\"|\"o...   4477587   292837   \n",
      "...                                                  ...       ...      ...   \n",
      "40797  Shawn|\"Mendes\"|\"Nervous\"|\"Island\"|\"Records\"|\"Pop\"   4986664   518240   \n",
      "40807  junga trailer|\"junga songs\"|\"tamil songs\"|\"tam...   2274252   121587   \n",
      "40828  Kar Har Maidaan Fateh|\"kar har maidan fateh\"|\"...  19472216   309752   \n",
      "40857  amrit maan new song|\"amrit maan songs\"|\"amrit ...  16256855   321798   \n",
      "40864  Halo Infinite|\"Halo E3\"|\"Halo Infinite Trailer...   2557709    65412   \n",
      "\n",
      "       dislikes  comment_count  \\\n",
      "0         43420         125882   \n",
      "2          5339           8181   \n",
      "4         21082          85067   \n",
      "6          9850          26629   \n",
      "8          4123          36391   \n",
      "...         ...            ...   \n",
      "40797      5215          34466   \n",
      "40807      2520           3636   \n",
      "40828     10303          21731   \n",
      "40857     14006          20453   \n",
      "40864      2264          17165   \n",
      "\n",
      "                                       thumbnail_link  comments_disabled  \\\n",
      "0      https://i.ytimg.com/vi/n1WpP7iowLc/default.jpg              False   \n",
      "2      https://i.ytimg.com/vi/5qpjK5DgCt4/default.jpg              False   \n",
      "4      https://i.ytimg.com/vi/2Vv-BfVoq4g/default.jpg              False   \n",
      "6      https://i.ytimg.com/vi/_uM5kFfkhB8/default.jpg              False   \n",
      "8      https://i.ytimg.com/vi/JzCsM1vtn78/default.jpg              False   \n",
      "...                                               ...                ...   \n",
      "40797  https://i.ytimg.com/vi/DGzy8FE1Rhk/default.jpg              False   \n",
      "40807  https://i.ytimg.com/vi/G4g2Kg6wXBc/default.jpg              False   \n",
      "40828  https://i.ytimg.com/vi/64UX1npgRkI/default.jpg              False   \n",
      "40857  https://i.ytimg.com/vi/vg0ZfeszGrU/default.jpg              False   \n",
      "40864  https://i.ytimg.com/vi/Fmdb-KmlzD8/default.jpg              False   \n",
      "\n",
      "       ratings_disabled  video_error_or_removed  \\\n",
      "0                 False                   False   \n",
      "2                 False                   False   \n",
      "4                 False                   False   \n",
      "6                 False                   False   \n",
      "8                 False                   False   \n",
      "...                 ...                     ...   \n",
      "40797             False                   False   \n",
      "40807             False                   False   \n",
      "40828             False                   False   \n",
      "40857             False                   False   \n",
      "40864             False                   False   \n",
      "\n",
      "                                             description  \n",
      "0      Eminem's new track Walk on Water ft. Beyoncé i...  \n",
      "2      WATCH MY PREVIOUS VIDEO ▶ \\n\\nSUBSCRIBE ► http...  \n",
      "4      🎧: https://ad.gt/yt-perfect\\n💰: https://atlant...  \n",
      "6      Vanoss Merch Shop: https://vanoss.3blackdot.co...  \n",
      "8      Join the movement. Be a Maverick ► https://Sho...  \n",
      "...                                                  ...  \n",
      "40797  Music video by Shawn Mendes performing Nervous...  \n",
      "40807  #Junga Official Trailer | #Junga is an Indian ...  \n",
      "40828  In the darkest of moments, it’s often your fam...  \n",
      "40857  Buy Difference from iTunes: https://apple.co/2...  \n",
      "40864  The Master Chief returns in Halo Infinite – th...  \n",
      "\n",
      "[4296 rows x 16 columns]\n"
     ]
    }
   ],
   "source": [
    "outliers_df2 = detect_outliers(df2, 'views')\n",
    "print(\"\\nOutliers in df2 (views column):\")\n",
    "print(outliers_df2)"
   ]
  },
  {
   "cell_type": "code",
   "execution_count": 36,
   "id": "50fcebf3-831e-453e-88ab-cf86fd192854",
   "metadata": {},
   "outputs": [],
   "source": [
    "# Save cleaned datasets\n",
    "df1.to_csv('cleaned_New_York_City_ANB_2019.csv', index=False)\n",
    "df2.to_csv('cleaned_CAvideos.csv', index=False)"
   ]
  },
  {
   "cell_type": "code",
   "execution_count": null,
   "id": "5ed5cf0a-b042-4c96-a06d-be927ba26dd0",
   "metadata": {},
   "outputs": [],
   "source": []
  }
 ],
 "metadata": {
  "kernelspec": {
   "display_name": "Python 3 (ipykernel)",
   "language": "python",
   "name": "python3"
  },
  "language_info": {
   "codemirror_mode": {
    "name": "ipython",
    "version": 3
   },
   "file_extension": ".py",
   "mimetype": "text/x-python",
   "name": "python",
   "nbconvert_exporter": "python",
   "pygments_lexer": "ipython3",
   "version": "3.11.7"
  }
 },
 "nbformat": 4,
 "nbformat_minor": 5
}
